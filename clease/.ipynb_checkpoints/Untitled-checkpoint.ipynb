{
 "cells": [
  {
   "cell_type": "code",
   "execution_count": 2,
   "id": "74a9068b",
   "metadata": {},
   "outputs": [],
   "source": [
    "from clease.settings import Concentration\n",
    "import numpy as np\n",
    "np.random.seed(0)  # Set a seed for consistent tests"
   ]
  },
  {
   "cell_type": "markdown",
   "id": "782fb0fa",
   "metadata": {},
   "source": [
    "# ratio"
   ]
  },
  {
   "cell_type": "code",
   "execution_count": 7,
   "id": "fa3d7b93",
   "metadata": {},
   "outputs": [],
   "source": [
    "# simple demo\n",
    "conc = Concentration(basis_elements=[['Au', 'Cu']],)\n",
    "conc.set_conc_formula_unit(formulas=[\"Au<x>Cu<1-x>\"], variable_range={\"x\": (0, 1)})"
   ]
  },
  {
   "cell_type": "code",
   "execution_count": null,
   "id": "1975cf87",
   "metadata": {},
   "outputs": [],
   "source": [
    "# one_sublattice"
   ]
  },
  {
   "cell_type": "code",
   "execution_count": 17,
   "id": "e50841b2",
   "metadata": {},
   "outputs": [
    {
     "name": "stdout",
     "output_type": "stream",
     "text": [
      "0.5000000000000002 0.5\n"
     ]
    }
   ],
   "source": [
    "# Force the Au concentration to be equal to the Cu concentration\n",
    "basis_elements = [['Au', 'Cu']]\n",
    "A_eq = [[1.0, -1.0]]\n",
    "b_eq = [0.0]\n",
    "conc = Concentration(basis_elements=basis_elements, A_eq=A_eq, b_eq=b_eq)\n",
    "for i in range(1):\n",
    "    x = conc.get_random_concentration([20])\n",
    "    print(x[0],x[1])"
   ]
  },
  {
   "cell_type": "code",
   "execution_count": 22,
   "id": "66a26ea0",
   "metadata": {},
   "outputs": [
    {
     "name": "stdout",
     "output_type": "stream",
     "text": [
      "0.95 0.05\n",
      "0.85 0.15\n",
      "0.95 0.050000000000000044\n"
     ]
    }
   ],
   "source": [
    "# Force number of Au atoms to be larger than 12\n",
    "A_lb = [[20, 0.0]]\n",
    "b_lb = [12]\n",
    "conc = Concentration(basis_elements=basis_elements, A_lb=A_lb, b_lb=b_lb)\n",
    "for i in range(3):\n",
    "    x = conc.get_random_concentration([20])\n",
    "    print(x[0],x[1])"
   ]
  },
  {
   "cell_type": "code",
   "execution_count": 25,
   "id": "8a2081fe",
   "metadata": {},
   "outputs": [
    {
     "name": "stdout",
     "output_type": "stream",
     "text": [
      "0.0\n",
      "0.0\n",
      "0.0\n"
     ]
    }
   ],
   "source": [
    "# Force the concentration of O to be twice the concentration of F\n",
    "basis_elements = [['Li', 'V'], ['O', 'F']]\n",
    "A_eq = [[0.0, 0.0, -1.0, 2.0]]\n",
    "b_eq = [0.0]\n",
    "conc = Concentration(basis_elements=basis_elements, A_eq=A_eq, b_eq=b_eq)\n",
    "for i in range(3):\n",
    "    x = conc.get_random_concentration([18, 18])\n",
    "    print(x[2] - 2*x[3])"
   ]
  },
  {
   "cell_type": "code",
   "execution_count": 27,
   "id": "67de94d0",
   "metadata": {},
   "outputs": [
    {
     "name": "stdout",
     "output_type": "stream",
     "text": [
      "0.8333333333333334 0.6111111111111112\n",
      "0.2777777777777778 0.2777777777777778\n",
      "0.5 0.05555555555555555\n"
     ]
    }
   ],
   "source": [
    "# Li concentration larger than 0.2 and O concentration smaller than 0.7\n",
    "A_lb = [[1.0, 0.0, 0.0, 0.0], [0.0, 0.0, -1.0, 0.0]]\n",
    "b_lb = [0.2, -0.7]\n",
    "conc = Concentration(basis_elements=basis_elements, A_lb=A_lb, b_lb=b_lb)\n",
    "for i in range(3):\n",
    "   x = conc.get_random_concentration([18, 18])\n",
    "   print(x[0],x[2])"
   ]
  },
  {
   "cell_type": "code",
   "execution_count": null,
   "id": "e9f96a16",
   "metadata": {},
   "outputs": [],
   "source": [
    "from clease.settings import CEBulk\n",
    "settings = CEBulk(crystalstructure='fcc',\n",
    "                  a=3.8,\n",
    "                  supercell_factor=64,\n",
    "                  concentration=conc,\n",
    "                  db_name=\"aucu.db\",\n",
    "                  max_cluster_dia=[6.0, 4.5, 4.5])"
   ]
  },
  {
   "cell_type": "markdown",
   "id": "63ed702b",
   "metadata": {},
   "source": [
    "# Specify CE settings"
   ]
  },
  {
   "cell_type": "code",
   "execution_count": 53,
   "id": "9d0a1bf8",
   "metadata": {},
   "outputs": [],
   "source": [
    "from clease.settings import CEBulk\n",
    "conc = Concentration(basis_elements=[['Au', 'Cu']],)\n",
    "conc.set_conc_formula_unit(formulas=[\"Au<x>Cu<1-x>\"], variable_range={\"x\": (0, 1)})\n",
    "\n",
    "settings = CEBulk(crystalstructure='fcc',\n",
    "                  a=3.8,\n",
    "                  #size=(2,2,2),\n",
    "                  supercell_factor=64,\n",
    "                  concentration=conc,\n",
    "                  db_name=\"aucu.db\",\n",
    "                  max_cluster_dia=[6.0, 4.5, 4.5])\n",
    "# settings.view_clusters()\n",
    "# settings.view_templates()"
   ]
  },
  {
   "cell_type": "code",
   "execution_count": 15,
   "id": "7341195f",
   "metadata": {},
   "outputs": [],
   "source": [
    "from ase.io import read\n",
    "conc = Concentration(basis_elements=[['N', 'H']],)\n",
    "atoms = read(\"./POSCAR\")\n",
    "from clease.settings import ClusterExpansionSettings\n",
    "setting = ClusterExpansionSettings(\n",
    "    prim=atoms,\n",
    "    concentration=conc,\n",
    "    db_name=\"demo.db\",\n",
    "    size=(1,1,1),\n",
    "    #supercell_factor=2,\n",
    "    #max_cluster_dia=[5, 5, 5, 5],\n",
    "    #basis_func_type=\"binary_linear\",\n",
    "    #include_background_atoms=True,\n",
    ")\n",
    "setting.view_templates()"
   ]
  },
  {
   "cell_type": "code",
   "execution_count": 7,
   "id": "88895196",
   "metadata": {},
   "outputs": [],
   "source": []
  },
  {
   "cell_type": "code",
   "execution_count": null,
   "id": "8055bd66",
   "metadata": {},
   "outputs": [],
   "source": []
  }
 ],
 "metadata": {
  "kernelspec": {
   "display_name": "Python 3 (ipykernel)",
   "language": "python",
   "name": "python3"
  },
  "language_info": {
   "codemirror_mode": {
    "name": "ipython",
    "version": 3
   },
   "file_extension": ".py",
   "mimetype": "text/x-python",
   "name": "python",
   "nbconvert_exporter": "python",
   "pygments_lexer": "ipython3",
   "version": "3.8.13"
  }
 },
 "nbformat": 4,
 "nbformat_minor": 5
}
