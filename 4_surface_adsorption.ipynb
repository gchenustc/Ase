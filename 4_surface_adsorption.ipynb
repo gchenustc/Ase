{
 "cells": [
  {
   "cell_type": "markdown",
   "metadata": {},
   "source": [
    "# BULK"
   ]
  },
  {
   "cell_type": "code",
   "execution_count": 79,
   "metadata": {},
   "outputs": [],
   "source": [
    "import ase\n",
    "from ase.db import connect\n",
    "from ase.build import bulk\n",
    "from ase.calculators.emt import EMT\n",
    "from ase.eos import calculate_eos"
   ]
  },
  {
   "cell_type": "code",
   "execution_count": 80,
   "metadata": {},
   "outputs": [
    {
     "data": {
      "text/plain": [
       "16.60753125"
      ]
     },
     "execution_count": 80,
     "metadata": {},
     "output_type": "execute_result"
    }
   ],
   "source": [
    "atom = bulk('Al', 'fcc')\n",
    "atom.get_volume()"
   ]
  },
  {
   "cell_type": "code",
   "execution_count": 81,
   "metadata": {},
   "outputs": [
    {
     "data": {
      "text/plain": [
       "(11.76147025, -0.005681511358588409)"
      ]
     },
     "execution_count": 81,
     "metadata": {},
     "output_type": "execute_result"
    }
   ],
   "source": [
    "atom = bulk('Cu', 'fcc')\n",
    "atom.calc =EMT()\n",
    "atom.get_volume(), atom.get_potential_energy() # 想要获得能量就得指定calc方法"
   ]
  },
  {
   "cell_type": "code",
   "execution_count": 82,
   "metadata": {},
   "outputs": [
    {
     "data": {
      "text/plain": [
       "(11.565374510214, -0.007036478731361484, 0.8392875566841875)"
      ]
     },
     "execution_count": 82,
     "metadata": {},
     "output_type": "execute_result"
    }
   ],
   "source": [
    "eos = calculate_eos(atom)\n",
    "v,e,B = eos.fit() # 得到energy最小值 -- 原子的相对位置不变\n",
    "v,e,B"
   ]
  },
  {
   "cell_type": "code",
   "execution_count": 83,
   "metadata": {},
   "outputs": [
    {
     "data": {
      "text/plain": [
       "-0.0070364920483623195"
      ]
     },
     "execution_count": 83,
     "metadata": {},
     "output_type": "execute_result"
    }
   ],
   "source": [
    "atom.cell *= (v / atom.get_volume()) ** (1/3)\n",
    "atom.get_potential_energy()"
   ]
  },
  {
   "cell_type": "code",
   "execution_count": 84,
   "metadata": {},
   "outputs": [],
   "source": [
    "# ase.io.write(\"POSCAR\",atom,format=\"vasp\")"
   ]
  },
  {
   "cell_type": "code",
   "execution_count": 85,
   "metadata": {},
   "outputs": [],
   "source": [
    "db = ase.db.connect('bulk.db')\n",
    "for atom in ['Al', 'Ni', 'Cu', 'Pd', 'Ag', 'Pt', 'Au']:\n",
    "    atoms = bulk(atom, 'fcc')\n",
    "    atoms.calc = EMT()\n",
    "    eos = ase.eos.calculate_eos(atoms)\n",
    "    v,e,B = eos.fit()\n",
    "    atoms.cell *= (v/atoms.get_volume()) ** (1/3)\n",
    "    atoms.get_potential_energy()\n",
    "    db.write(atoms, bm=B) # bm: bulk modulus"
   ]
  },
  {
   "cell_type": "markdown",
   "metadata": {},
   "source": [
    "# ADSORBATES"
   ]
  },
  {
   "cell_type": "markdown",
   "metadata": {},
   "source": [
    "## 引入1 - fcc111"
   ]
  },
  {
   "cell_type": "code",
   "execution_count": 87,
   "metadata": {},
   "outputs": [
    {
     "name": "stdout",
     "output_type": "stream",
     "text": [
      "[3 3 3 3 2 2 2 2 1 1 1 1 0]\n"
     ]
    },
    {
     "data": {
      "text/plain": [
       "13"
      ]
     },
     "execution_count": 87,
     "metadata": {},
     "output_type": "execute_result"
    }
   ],
   "source": [
    "from ase.build import fcc111\n",
    "slab = ase.build.fcc111(\"Al\", size=(2,2,3), vacuum=10, periodic=False)\n",
    "ase.build.add_adsorbate(slab, 'H', 1.5, 'ontop')\n",
    "slab.center(vacuum=10.0, axis=2)\n",
    "# ase.io.write(\"POSCAR1\", slab, format='vasp')\n",
    "print(slab.get_tags())\n",
    "len(slab)"
   ]
  },
  {
   "cell_type": "markdown",
   "metadata": {},
   "source": [
    "## 引入2 - BFGS\n",
    "BFGS 只优化原子位置，不优化胞"
   ]
  },
  {
   "cell_type": "code",
   "execution_count": 88,
   "metadata": {},
   "outputs": [],
   "source": [
    "from ase.optimize import BFGS\n",
    "from ase.constraints import FixAtoms"
   ]
  },
  {
   "cell_type": "code",
   "execution_count": 89,
   "metadata": {},
   "outputs": [
    {
     "name": "stdout",
     "output_type": "stream",
     "text": [
      "      Step     Time          Energy         fmax\n",
      "BFGS:    0 21:41:18        2.727814        3.7034\n",
      "BFGS:    1 21:41:18        2.576465        1.9057\n",
      "BFGS:    2 21:41:18        2.471500        2.1184\n",
      "BFGS:    3 21:41:18        2.083094        3.1839\n",
      "BFGS:    4 21:41:18        2.072093        1.5143\n",
      "BFGS:    5 21:41:18        1.980273        0.6710\n",
      "BFGS:    6 21:41:18        1.954224        1.0407\n",
      "BFGS:    7 21:41:18        1.937640        0.7327\n",
      "BFGS:    8 21:41:18        1.898400        0.2292\n",
      "BFGS:    9 21:41:18        1.888954        0.2511\n",
      "BFGS:   10 21:41:18        1.882341        0.1968\n",
      "BFGS:   11 21:41:18        1.880049        0.1114\n",
      "BFGS:   12 21:41:18        1.879194        0.0516\n"
     ]
    }
   ],
   "source": [
    "h2o = ase.Atoms(\"H2O\", positions=[(0,0,0), (1,0,0), (0,1,0)], calculator=EMT())\n",
    "bfgs = BFGS(h2o, trajectory=\"h2o.traj\", restart=\"qn.pckl\")\n",
    "atoms = bfgs.run(fmax=0.1, steps=100) # fmax: 收敛精度"
   ]
  },
  {
   "cell_type": "code",
   "execution_count": 90,
   "metadata": {},
   "outputs": [
    {
     "name": "stdout",
     "output_type": "stream",
     "text": [
      "Cell([[2.8637824638055176, 0.0, 0.0], [1.4318912319027588, 2.4801083645679673, 0.0], [0.0, 0.0, 0.0]])\n",
      "Cell([[2.8637824638055176, 0.0, 0.0], [1.4318912319027588, 2.4801083645679673, 0.0], [0.0, 0.0, 0.0]])\n"
     ]
    }
   ],
   "source": [
    "symb=\"Al\"\n",
    "ads=\"H\"\n",
    "n=3 # z轴上选取三层\n",
    "atoms = fcc111(symb, (1, 1, n))\n",
    "ase.build.add_adsorbate(atoms, ads, height=1.0, position='fcc')\n",
    "# print(atoms.get_tags()) # [3,2,1,0]\n",
    "# Constrain all atoms except the adsorbate:\n",
    "# print(len(atoms)) # 4\n",
    "fixed = list(range(len(atoms) - 1))\n",
    "# print(fixed) # [0,1,2]\n",
    "# print(FixAtoms(indices=fixed))\n",
    "atoms.constraints = FixAtoms(indices=fixed)\n",
    "atoms.calc = EMT()\n",
    "print(atoms.get_cell())\n",
    "opt = BFGS(atoms, logfile=\"out.log\")\n",
    "opt.run(fmax=0.01)\n",
    "print(atoms.get_cell())"
   ]
  }
 ],
 "metadata": {
  "kernelspec": {
   "display_name": "Python 3.8.8 ('base')",
   "language": "python",
   "name": "python3"
  },
  "language_info": {
   "codemirror_mode": {
    "name": "ipython",
    "version": 3
   },
   "file_extension": ".py",
   "mimetype": "text/x-python",
   "name": "python",
   "nbconvert_exporter": "python",
   "pygments_lexer": "ipython3",
   "version": "3.8.8"
  },
  "orig_nbformat": 4,
  "vscode": {
   "interpreter": {
    "hash": "e665bd0c90333571dc6e242ea46570f71accaf8375c022a57c8259094a5d60b9"
   }
  }
 },
 "nbformat": 4,
 "nbformat_minor": 2
}
