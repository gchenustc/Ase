{
 "cells": [
  {
   "cell_type": "markdown",
   "metadata": {},
   "source": [
    "# BULK"
   ]
  },
  {
   "cell_type": "code",
   "execution_count": 1,
   "metadata": {},
   "outputs": [],
   "source": [
    "import ase\n",
    "from ase.db import connect\n",
    "from ase.build import bulk\n",
    "from ase.calculators.emt import EMT\n",
    "from ase.eos import calculate_eos"
   ]
  },
  {
   "cell_type": "code",
   "execution_count": 2,
   "metadata": {},
   "outputs": [
    {
     "data": {
      "text/plain": [
       "16.60753125"
      ]
     },
     "execution_count": 2,
     "metadata": {},
     "output_type": "execute_result"
    }
   ],
   "source": [
    "atom = bulk('Al', 'fcc')\n",
    "atom.get_volume()"
   ]
  },
  {
   "cell_type": "code",
   "execution_count": 3,
   "metadata": {},
   "outputs": [
    {
     "data": {
      "text/plain": [
       "(11.76147025, -0.005681511358588409)"
      ]
     },
     "execution_count": 3,
     "metadata": {},
     "output_type": "execute_result"
    }
   ],
   "source": [
    "atom = bulk('Cu', 'fcc')\n",
    "atom.calc =EMT()\n",
    "atom.get_volume(), atom.get_potential_energy() # 想要获得能量就得指定calc方法"
   ]
  },
  {
   "cell_type": "code",
   "execution_count": 4,
   "metadata": {},
   "outputs": [
    {
     "data": {
      "text/plain": [
       "(11.565374510214, -0.007036478731361484, 0.8392875566841875)"
      ]
     },
     "execution_count": 4,
     "metadata": {},
     "output_type": "execute_result"
    }
   ],
   "source": [
    "eos = calculate_eos(atom)\n",
    "v,e,B = eos.fit() # 得到energy最小值 -- 原子的相对位置不变\n",
    "v,e,B"
   ]
  },
  {
   "cell_type": "code",
   "execution_count": 5,
   "metadata": {},
   "outputs": [
    {
     "data": {
      "text/plain": [
       "-0.0070364920483623195"
      ]
     },
     "execution_count": 5,
     "metadata": {},
     "output_type": "execute_result"
    }
   ],
   "source": [
    "atom.cell *= (v / atom.get_volume()) ** (1/3)\n",
    "atom.get_potential_energy()"
   ]
  },
  {
   "cell_type": "code",
   "execution_count": 6,
   "metadata": {},
   "outputs": [],
   "source": [
    "# ase.io.write(\"POSCAR\",atom,format=\"vasp\")"
   ]
  },
  {
   "cell_type": "code",
   "execution_count": 7,
   "metadata": {},
   "outputs": [],
   "source": [
    "db = ase.db.connect('bulk.db')\n",
    "for atom in ['Al', 'Ni', 'Cu', 'Pd', 'Ag', 'Pt', 'Au']:\n",
    "    atoms = bulk(atom, 'fcc')\n",
    "    atoms.calc = EMT()\n",
    "    eos = ase.eos.calculate_eos(atoms)\n",
    "    v,e,B = eos.fit()\n",
    "    atoms.cell *= (v/atoms.get_volume()) ** (1/3)\n",
    "    atoms.get_potential_energy()\n",
    "    db.write(atoms, bm=B) # bm: bulk modulus"
   ]
  },
  {
   "cell_type": "markdown",
   "metadata": {},
   "source": [
    "# ADSORBATES"
   ]
  },
  {
   "cell_type": "markdown",
   "metadata": {},
   "source": [
    "## 引入1 - fcc111"
   ]
  },
  {
   "cell_type": "code",
   "execution_count": 9,
   "metadata": {},
   "outputs": [
    {
     "name": "stdout",
     "output_type": "stream",
     "text": [
      "[3 3 3 3 2 2 2 2 1 1 1 1 0]\n"
     ]
    },
    {
     "data": {
      "text/plain": [
       "13"
      ]
     },
     "execution_count": 9,
     "metadata": {},
     "output_type": "execute_result"
    }
   ],
   "source": [
    "from ase.build import fcc111\n",
    "slab = ase.build.fcc111(\"Al\", size=(2,2,3), vacuum=10, periodic=False)\n",
    "ase.build.add_adsorbate(slab, 'H', 1.5, 'ontop')\n",
    "slab.center(vacuum=10.0, axis=2)\n",
    "# ase.io.write(\"POSCAR1\", slab, format='vasp')\n",
    "print(slab.get_tags())\n",
    "len(slab)"
   ]
  },
  {
   "cell_type": "markdown",
   "metadata": {},
   "source": [
    "## 引入2 - BFGS\n",
    "BFGS 只优化原子位置，不优化胞"
   ]
  },
  {
   "cell_type": "code",
   "execution_count": 12,
   "metadata": {},
   "outputs": [],
   "source": [
    "from ase.optimize import BFGS\n",
    "from ase.constraints import FixAtoms"
   ]
  },
  {
   "cell_type": "code",
   "execution_count": 11,
   "metadata": {},
   "outputs": [
    {
     "name": "stdout",
     "output_type": "stream",
     "text": [
      "      Step     Time          Energy         fmax\n",
      "BFGS:    0 17:58:15        2.727814        3.7034\n",
      "BFGS:    1 17:58:15        2.175891        2.8245\n",
      "BFGS:    2 17:58:15        2.014597        2.5453\n",
      "BFGS:    3 17:58:15        1.923292        1.2353\n",
      "BFGS:    4 17:58:15        1.887674        0.3347\n",
      "BFGS:    5 17:58:15        1.883974        0.2044\n",
      "BFGS:    6 17:58:15        1.882735        0.1729\n",
      "BFGS:    7 17:58:15        1.879417        0.0947\n"
     ]
    }
   ],
   "source": [
    "h2o = ase.Atoms(\"H2O\", positions=[(0,0,0), (1,0,0), (0,1,0)], calculator=EMT())\n",
    "bfgs = BFGS(h2o, trajectory=\"h2o.traj\", restart=\"qn.pckl\")\n",
    "atoms = bfgs.run(fmax=0.1, steps=100) # fmax: 收敛精度"
   ]
  },
  {
   "cell_type": "code",
   "execution_count": 12,
   "metadata": {},
   "outputs": [
    {
     "name": "stdout",
     "output_type": "stream",
     "text": [
      "Cell([[2.8637824638055176, 0.0, 0.0], [1.4318912319027588, 2.4801083645679673, 0.0], [0.0, 0.0, 0.0]])\n",
      "Cell([[2.8637824638055176, 0.0, 0.0], [1.4318912319027588, 2.4801083645679673, 0.0], [0.0, 0.0, 0.0]])\n"
     ]
    }
   ],
   "source": [
    "symb=\"Al\"\n",
    "ads=\"H\"\n",
    "n=3 # z轴上选取三层\n",
    "atoms = fcc111(symb, (1, 1, n))\n",
    "ase.build.add_adsorbate(atoms, ads, height=1.0, position='fcc')\n",
    "# print(atoms.get_tags()) # [3,2,1,0]\n",
    "# Constrain all atoms except the adsorbate:\n",
    "# print(len(atoms)) # 4\n",
    "fixed = list(range(len(atoms) - 1))\n",
    "# print(fixed) # [0,1,2]\n",
    "# print(FixAtoms(indices=fixed))\n",
    "atoms.constraints = FixAtoms(indices=fixed)\n",
    "atoms.calc = EMT()\n",
    "print(atoms.get_cell())\n",
    "opt = BFGS(atoms, logfile=\"out.log\")\n",
    "opt.run(fmax=0.01)\n",
    "print(atoms.get_cell())"
   ]
  },
  {
   "cell_type": "markdown",
   "metadata": {},
   "source": [
    "## 实例"
   ]
  },
  {
   "cell_type": "markdown",
   "metadata": {},
   "source": [
    "### 补充"
   ]
  },
  {
   "cell_type": "code",
   "execution_count": 25,
   "metadata": {},
   "outputs": [],
   "source": [
    "\n",
    "db1 = ase.db.connect(\"bulk.db\")\n",
    "db2 = ase.db.connect(\"ads.db\")"
   ]
  },
  {
   "cell_type": "code",
   "execution_count": 26,
   "metadata": {},
   "outputs": [
    {
     "data": {
      "text/plain": [
       "['bm',\n",
       " 'calculator',\n",
       " 'calculator_parameters',\n",
       " 'cell',\n",
       " 'charge',\n",
       " 'constrained_forces',\n",
       " 'constraints',\n",
       " 'count_atoms',\n",
       " 'ctime',\n",
       " 'data',\n",
       " 'energy',\n",
       " 'fmax',\n",
       " 'forces',\n",
       " 'formula',\n",
       " 'get',\n",
       " 'id',\n",
       " 'key_value_pairs',\n",
       " 'mass',\n",
       " 'mtime',\n",
       " 'natoms',\n",
       " 'numbers',\n",
       " 'pbc',\n",
       " 'positions',\n",
       " 'smax',\n",
       " 'symbols',\n",
       " 'toatoms',\n",
       " 'unique_id',\n",
       " 'user',\n",
       " 'volume']"
      ]
     },
     "execution_count": 26,
     "metadata": {},
     "output_type": "execute_result"
    }
   ],
   "source": [
    "iter_ = iter(db.select())\n",
    "dst = next(iter_)\n",
    "dir(dst)[34:]"
   ]
  },
  {
   "cell_type": "code",
   "execution_count": 27,
   "metadata": {},
   "outputs": [
    {
     "data": {
      "text/plain": [
       "(['Al'],\n",
       " array([[0.        , 1.99715944, 1.99715944],\n",
       "        [1.99715944, 0.        , 1.99715944],\n",
       "        [1.99715944, 1.99715944, 0.        ]]))"
      ]
     },
     "execution_count": 27,
     "metadata": {},
     "output_type": "execute_result"
    }
   ],
   "source": [
    "dst. symbols, dst.cell"
   ]
  },
  {
   "cell_type": "markdown",
   "metadata": {},
   "source": [
    "### 计算吸附物能量"
   ]
  },
  {
   "cell_type": "code",
   "execution_count": 28,
   "metadata": {},
   "outputs": [],
   "source": [
    "def run(name, a, layer, ads):\n",
    "    atoms = ase.build.fcc111(name, (1,1,n), a=a)\n",
    "    ase.build.add_adsorbate(atoms, ads, height=1, position=\"fcc\")\n",
    "\n",
    "    # fix atoms except adsorbs\n",
    "    fixed = list(range(len(atoms) - 1))\n",
    "    atoms.constraints = ase.constraints.FixAtoms(indices = fixed)\n",
    "\n",
    "    atoms.calc = EMT()\n",
    "\n",
    "    opt = ase.optimize.BFGS(atoms, logfile=None)\n",
    "    opt.run(fmax=0.01)\n",
    "    return atoms\n",
    "\n",
    "for atom in db1.select():\n",
    "    a = atom.cell[0,1] * 2\n",
    "    symbol = atom.symbols[0]\n",
    "    for n in [1,2,3]:\n",
    "        for ads in \"CNO\":\n",
    "            id = db2.reserve(layers=n, surf=symbol, ads=ads) # 创建对应参数的row， 如果存在，id=None\n",
    "            if id is not None:\n",
    "                atoms = run(symbol, a, n, ads)\n",
    "                db2.write(atoms, surf=symbol, layers=n, ads=ads)\n",
    "                del db2[id]"
   ]
  },
  {
   "cell_type": "markdown",
   "metadata": {},
   "source": [
    "### 计算纯净的表面的能量"
   ]
  },
  {
   "cell_type": "code",
   "execution_count": 30,
   "metadata": {},
   "outputs": [],
   "source": [
    "from ase import Atoms\n",
    "from ase.calculators.emt import EMT\n",
    "from ase.db import connect\n",
    "from ase.build import fcc111\n",
    "\n",
    "db1 = connect('bulk.db')\n",
    "db2 = connect('ads.db')\n",
    "\n",
    "\n",
    "def run(symb, a, n):\n",
    "    atoms = fcc111(symb, (1, 1, n), a=a)\n",
    "    atoms.calc = EMT()\n",
    "    atoms.get_forces()\n",
    "    return atoms\n",
    "\n",
    "\n",
    "# Clean slabs:\n",
    "for row in db1.select():\n",
    "    a = row.cell[0, 1] * 2\n",
    "    symb = row.symbols[0]\n",
    "    for n in [1, 2, 3]:\n",
    "        id = db2.reserve(layers=n, surf=symb, ads='clean')\n",
    "        if id is not None:\n",
    "            atoms = run(symb, a, n)\n",
    "            db2.write(atoms, id=id, layers=n, surf=symb, ads='clean')\n",
    "\n",
    "# Atoms:\n",
    "for ads in 'CNO':\n",
    "    a = Atoms(ads)\n",
    "    a.calc = EMT()\n",
    "    a.get_potential_energy()\n",
    "    db2.write(a)\n",
    "\n",
    "\"\"\"\n",
    "Say we want those 24 reference energies (clean surfaces and isolated adsorbates) in a refs.db file instead of the big ads.db file. We could change the refs.py script and run the calculations again, but we can also manipulate the files using the ase db tool. First, we move over the clean surfaces:\n",
    "\n",
    "$ ase db ads.db ads=clean --insert-into refs.db\n",
    "Added 0 key-value pairs (0 pairs updated)\n",
    "Inserted 21 rows\n",
    "$ ase db ads.db ads=clean --delete --yes\n",
    "Deleted 21 rows\n",
    "\n",
    "and then the three atoms (pbc=FFF, no periodicity):\n",
    "\n",
    "$ ase db ads.db pbc=FFF --insert-into refs.db\n",
    "Added 0 key-value pairs (0 pairs updated)\n",
    "Inserted 3 rows\n",
    "$ ase db ads.db pbc=FFF --delete --yes\n",
    "Deleted 3 rows\n",
    "$ ase db ads.db -n\n",
    "63 rows\n",
    "$ ase db refs.db -n\n",
    "24 rows\n",
    "\"\"\""
   ]
  },
  {
   "cell_type": "markdown",
   "metadata": {},
   "source": [
    "### 分析"
   ]
  },
  {
   "cell_type": "code",
   "execution_count": 32,
   "metadata": {},
   "outputs": [],
   "source": [
    "refs = connect('refs.db')\n",
    "db = connect('ads.db')\n",
    "\n",
    "for row in db.select():\n",
    "    ea = row.energy - refs.get(formula=row.ads).energy - refs.get(layers=row.layers, surf=row.surf).energy\n",
    "    h = row.positions[-1,2] - row.positions[-2,2]\n",
    "    db.update(row.id, height=h, ea=ea)"
   ]
  },
  {
   "cell_type": "code",
   "execution_count": null,
   "metadata": {},
   "outputs": [],
   "source": []
  }
 ],
 "metadata": {
  "kernelspec": {
   "display_name": "Python 3.8.8 ('base')",
   "language": "python",
   "name": "python3"
  },
  "language_info": {
   "codemirror_mode": {
    "name": "ipython",
    "version": 3
   },
   "file_extension": ".py",
   "mimetype": "text/x-python",
   "name": "python",
   "nbconvert_exporter": "python",
   "pygments_lexer": "ipython3",
   "version": "3.8.8"
  },
  "orig_nbformat": 4,
  "vscode": {
   "interpreter": {
    "hash": "e665bd0c90333571dc6e242ea46570f71accaf8375c022a57c8259094a5d60b9"
   }
  }
 },
 "nbformat": 4,
 "nbformat_minor": 2
}
