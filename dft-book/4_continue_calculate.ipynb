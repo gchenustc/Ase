{
 "cells": [
  {
   "cell_type": "code",
   "execution_count": 1,
   "metadata": {},
   "outputs": [],
   "source": [
    "# 接着计算\n",
    "#假设再当前路径下的 ./cgN 文件夹下是cgN的vasp自洽计算文件，但是没有输出lcharg,现在想要按照它的参数继续得到电荷密度文件"
   ]
  },
  {
   "cell_type": "code",
   "execution_count": null,
   "metadata": {},
   "outputs": [],
   "source": [
    "from ase.calculators.vasp import Vasp\n",
    "# 首先读取directory路径下的文件\n",
    "calc = Vasp(restart=True, directory=\"./cgN\")\n",
    "\n",
    "# 重新设置INCAR参数\n",
    "calc.set(lcharg=\".T.\")\n",
    "\n",
    "# 再次设置目录，这次的目录是重新计算的输出目录\n",
    "calc.directory = \"./cgN_charge\"\n",
    "\n",
    "# 计算\n",
    "calc.get_atoms().get_potential_energy()"
   ]
  }
 ],
 "metadata": {
  "kernelspec": {
   "display_name": "Python 3.8.8 ('base')",
   "language": "python",
   "name": "python3"
  },
  "language_info": {
   "codemirror_mode": {
    "name": "ipython",
    "version": 3
   },
   "file_extension": ".py",
   "mimetype": "text/x-python",
   "name": "python",
   "nbconvert_exporter": "python",
   "pygments_lexer": "ipython3",
   "version": "3.8.8"
  },
  "orig_nbformat": 4,
  "vscode": {
   "interpreter": {
    "hash": "e665bd0c90333571dc6e242ea46570f71accaf8375c022a57c8259094a5d60b9"
   }
  }
 },
 "nbformat": 4,
 "nbformat_minor": 2
}
