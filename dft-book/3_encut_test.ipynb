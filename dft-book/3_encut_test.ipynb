{
 "cells": [
  {
   "cell_type": "code",
   "execution_count": 27,
   "metadata": {},
   "outputs": [],
   "source": [
    "# 截断能测试"
   ]
  },
  {
   "cell_type": "code",
   "execution_count": null,
   "metadata": {},
   "outputs": [],
   "source": [
    "from ase.io import read\n",
    "from ase.calculators.vasp import Vasp\n",
    "import numpy as np\n",
    "import matplotlib.pyplot as plt\n",
    "# 要提前准备坐标文件\n",
    "cgN = read(filename=\"cubic/cgN.vasp\", format=\"vasp\")\n",
    "\n",
    "# ENCUT范围\n",
    "encuts = [i for i in range(300,700,50)]\n",
    "\n",
    "# 设置计算器\n",
    "from ase.dft import kpoints as kp\n",
    "kpts = kp.monkhorst_pack([10,10,10]) # 设置k点\n",
    "\n",
    "calcs = [Vasp(directory=f\"encut_{en}\", # 计算路径\n",
    "      txt=f\"encut_{en}.log\", # vasp输出文件名\n",
    "\n",
    "      istart=0,\n",
    "      icharg=2,\n",
    "      xc=\"pbe\",\n",
    "      prec=\"Accurate\",\n",
    "      ediff=1E-3,\n",
    "      ibrion=-1,\n",
    "      ismear=0,\n",
    "      sigma=0.05,\n",
    "      lwave=\".F.\",\n",
    "      lcharg=\".F.\",\n",
    "      encut=en,  # 变量\n",
    "      kpts = kpts,\n",
    "      algo=\"very_fast\") for en in encuts]\n",
    "\n",
    "cgNs = [cgN.copy() for calc in calcs]\n",
    "for index,cgN in enumerate(cgNs):\n",
    "    cgN.calc = calcs[index]\n",
    "    \n",
    "energies = [atoms.get_potential_energy() for atoms in cgNs]\n",
    "\n",
    "plt.plot(encuts, energies, \"bo-\")\n",
    "plt.xlabel(\"ENCUT (eV)\")\n",
    "plt.ylabel(\"Total energy (eV)\")\n",
    "plt.savefig(\"cgN-encut-v.png\")"
   ]
  },
  {
   "cell_type": "code",
   "execution_count": null,
   "metadata": {},
   "outputs": [],
   "source": [
    "\"\"\"\n",
    "Linux: grep \"Elapsed time (sec):\" */OUTCAR\n",
    ">>>\n",
    "encut_300/OUTCAR:                         Elapsed time (sec):       99.569\n",
    "encut_350/OUTCAR:                         Elapsed time (sec):      104.048\n",
    "encut_400/OUTCAR:                         Elapsed time (sec):      140.844\n",
    "encut_450/OUTCAR:                         Elapsed time (sec):      146.126\n",
    "encut_500/OUTCAR:                         Elapsed time (sec):      152.406\n",
    "encut_550/OUTCAR:                         Elapsed time (sec):      177.161\n",
    "encut_600/OUTCAR:                         Elapsed time (sec):      182.648\n",
    "encut_650/OUTCAR:                         Elapsed time (sec):      187.215\n",
    "\"\"\""
   ]
  },
  {
   "cell_type": "code",
   "execution_count": 29,
   "metadata": {},
   "outputs": [],
   "source": [
    "# 手动算完之后也可调用ase再画图"
   ]
  },
  {
   "cell_type": "code",
   "execution_count": null,
   "metadata": {},
   "outputs": [],
   "source": [
    "from ase.calculators.vasp import Vasp\n",
    "\n",
    "# ENCUT范围\n",
    "encuts = [i for i in range(300,700,50)]\n",
    "calcs = [Vasp(restart=True, directory=f\"encut_{en}\") for en in encuts]\n",
    "\n",
    "energies = []\n",
    "for calc in calcs:\n",
    "    energies.append(calc.get_atoms().get_potential_energy())\n",
    "\n",
    "plt.plot(encuts, energies, \"bo-\")\n",
    "plt.xlabel(\"ENCUT (eV)\")\n",
    "plt.ylabel(\"Total energy (eV)\")\n",
    "plt.savefig(\"cgN-encut-v1.png\")"
   ]
  }
 ],
 "metadata": {
  "kernelspec": {
   "display_name": "Python 3.8.8 ('base')",
   "language": "python",
   "name": "python3"
  },
  "language_info": {
   "codemirror_mode": {
    "name": "ipython",
    "version": 3
   },
   "file_extension": ".py",
   "mimetype": "text/x-python",
   "name": "python",
   "nbconvert_exporter": "python",
   "pygments_lexer": "ipython3",
   "version": "3.8.13"
  },
  "orig_nbformat": 4,
  "vscode": {
   "interpreter": {
    "hash": "e665bd0c90333571dc6e242ea46570f71accaf8375c022a57c8259094a5d60b9"
   }
  }
 },
 "nbformat": 4,
 "nbformat_minor": 2
}
