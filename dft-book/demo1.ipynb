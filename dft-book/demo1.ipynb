{
 "cells": [
  {
   "cell_type": "markdown",
   "metadata": {},
   "source": [
    "When there is no data file for the molecule you want, or no database to get it from, you have to define your atoms geometry by hand. Here is how that is done for a CO molecule (Figure 1). We must define the type and position of each atom, and the unit cell the atoms are in."
   ]
  },
  {
   "cell_type": "code",
   "execution_count": 29,
   "metadata": {},
   "outputs": [],
   "source": [
    "from ase import Atoms, Atom\n",
    "from ase.io import write\n",
    "atoms = Atoms(\n",
    "    [Atom('C', [0,0,0]),\n",
    "    Atom('O', [1.1,0,0]),],\n",
    "    cell = (10,10,10)\n",
    ")\n",
    "\n",
    "write(\"./images/simple-cubic-cell.png\", atoms, rotation='50z,-80x') # \"ase info --formats\" in command line shows all formats"
   ]
  },
  {
   "cell_type": "markdown",
   "metadata": {},
   "source": [
    "There are two inconvenient features of the simple cubic cell: 1. Since the CO molecule is at the corner, its electron density is spread over the 8 corners of the box, which is not convenient for visualization later (see Visualizing electron density). 2. Due to the geometry of the cube, you need fairly large cubes to make sure the electron density of the molecule does not overlap with that of its images. Electron-electron interactions are repulsive, and the overlap makes the energy increase significantly. Here, the CO molecule has 6 images due to periodic boundary conditions that are 10 Å away. The volume of the unit cell is 1000 Å3. The first problem is easily solved by centering the atoms in the unit cell. The second problem can be solved by using a face-centered cubic lattice, which is the lattice with the closest packing. We show the results of the centering in Figure 2, where we have guessed values for b until the CO molecules are on average 10 Å apart. Note the final volume is only about 715 Å3, which is smaller than the cube. This will result in less computational time to compute properties."
   ]
  },
  {
   "cell_type": "code",
   "execution_count": 30,
   "metadata": {},
   "outputs": [],
   "source": [
    "from ase import Atoms, Atom\n",
    "from ase.io import write\n",
    "from ase.visualize import view\n",
    "b=7.1\n",
    "\n",
    "# fcc 原胞\n",
    "atoms = Atoms(\n",
    "    [Atom('C', [0,0,0]),\n",
    "    Atom('O', [1.1,0,0]),],\n",
    "    cell = [\n",
    "        [b,b,0],\n",
    "        [b,0,b],\n",
    "        [0,b,b]\n",
    "    ]\n",
    ")\n",
    "atoms.center() # translate atoms to center of unit cell\n",
    "# view(atoms)\n",
    "write(\"./images/fcc-cell.png\", atoms, show_unit_cell=2)"
   ]
  },
  {
   "cell_type": "markdown",
   "metadata": {},
   "source": [
    "At this point you might ask, \"How do you know the distance to the neighboring image?\" The ag viewer lets you compute this graphically, but we can use code to determine this too. All we have to do is figure out the length of each lattice vector, because these are what separate the atoms in the images. We use the numpy module to compute the distance of a vector as the square root of the sum of squared elements."
   ]
  },
  {
   "cell_type": "code",
   "execution_count": 33,
   "metadata": {},
   "outputs": [
    {
     "name": "stdout",
     "output_type": "stream",
     "text": [
      "|a1| = 10.04 Ang\n",
      "|a2| = 10.04 Ang\n",
      "|a3| = 10.04 Ang\n"
     ]
    }
   ],
   "source": [
    "from ase import Atoms, Atom\n",
    "from ase.io import write\n",
    "import numpy as np\n",
    "b=7.1\n",
    "\n",
    "# fcc 原胞\n",
    "atoms = Atoms(\n",
    "    [Atom('C', [0,0,0]),\n",
    "    Atom('O', [1.1,0,0]),],\n",
    "    cell = [\n",
    "        [b,b,0],\n",
    "        [b,0,b],\n",
    "        [0,b,b]\n",
    "    ]\n",
    ")\n",
    "atoms.center() # translate atoms to center of unit cell\n",
    "(a1, a2, a3) = atoms.get_cell()\n",
    "print(\"|a1| = {0:1.2f} Ang\".format(np.sum(a1**2)**0.5))\n",
    "print(\"|a2| = {0:1.2f} Ang\".format(np.linalg.norm(a2)))\n",
    "print(\"|a3| = {0:1.2f} Ang\".format(np.sum(a3**2)**0.5))"
   ]
  },
  {
   "cell_type": "code",
   "execution_count": null,
   "metadata": {},
   "outputs": [],
   "source": []
  }
 ],
 "metadata": {
  "kernelspec": {
   "display_name": "Python 3.8.8 ('base')",
   "language": "python",
   "name": "python3"
  },
  "language_info": {
   "codemirror_mode": {
    "name": "ipython",
    "version": 3
   },
   "file_extension": ".py",
   "mimetype": "text/x-python",
   "name": "python",
   "nbconvert_exporter": "python",
   "pygments_lexer": "ipython3",
   "version": "3.8.8"
  },
  "orig_nbformat": 4,
  "vscode": {
   "interpreter": {
    "hash": "e665bd0c90333571dc6e242ea46570f71accaf8375c022a57c8259094a5d60b9"
   }
  }
 },
 "nbformat": 4,
 "nbformat_minor": 2
}
