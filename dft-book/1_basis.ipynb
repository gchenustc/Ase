{
 "cells": [
  {
   "cell_type": "markdown",
   "metadata": {},
   "source": [
    "When there is no data file for the molecule you want, or no database to get it from, you have to define your atoms geometry by hand. Here is how that is done for a CO molecule (Figure 1). We must define the type and position of each atom, and the unit cell the atoms are in."
   ]
  },
  {
   "cell_type": "code",
   "execution_count": 29,
   "metadata": {},
   "outputs": [],
   "source": [
    "from ase import Atoms, Atom\n",
    "from ase.io import write\n",
    "atoms = Atoms(\n",
    "    [Atom('C', [0,0,0]),\n",
    "    Atom('O', [1.1,0,0]),],\n",
    "    cell = (10,10,10)\n",
    ")\n",
    "\n",
    "write(\"./images/simple-cubic-cell.png\", atoms, rotation='50z,-80x') # \"ase info --formats\" in command line shows all formats"
   ]
  },
  {
   "cell_type": "markdown",
   "metadata": {},
   "source": [
    "There are two inconvenient features of the simple cubic cell: 1. Since the CO molecule is at the corner, its electron density is spread over the 8 corners of the box, which is not convenient for visualization later (see Visualizing electron density). 2. Due to the geometry of the cube, you need fairly large cubes to make sure the electron density of the molecule does not overlap with that of its images. Electron-electron interactions are repulsive, and the overlap makes the energy increase significantly. Here, the CO molecule has 6 images due to periodic boundary conditions that are 10 Å away. The volume of the unit cell is 1000 Å3. The first problem is easily solved by centering the atoms in the unit cell. The second problem can be solved by using a face-centered cubic lattice, which is the lattice with the closest packing. We show the results of the centering in Figure 2, where we have guessed values for b until the CO molecules are on average 10 Å apart. Note the final volume is only about 715 Å3, which is smaller than the cube. This will result in less computational time to compute properties."
   ]
  },
  {
   "cell_type": "code",
   "execution_count": 30,
   "metadata": {},
   "outputs": [],
   "source": [
    "from ase import Atoms, Atom\n",
    "from ase.io import write\n",
    "from ase.visualize import view\n",
    "b=7.1\n",
    "\n",
    "# fcc 原胞\n",
    "atoms = Atoms(\n",
    "    [Atom('C', [0,0,0]),\n",
    "    Atom('O', [1.1,0,0]),],\n",
    "    cell = [\n",
    "        [b,b,0],\n",
    "        [b,0,b],\n",
    "        [0,b,b]\n",
    "    ]\n",
    ")\n",
    "atoms.center() # translate atoms to center of unit cell\n",
    "# view(atoms)\n",
    "write(\"./images/fcc-cell.png\", atoms, show_unit_cell=2) # In the write command we use the option show_unit_cell =2 to draw the unit cell boundaries."
   ]
  },
  {
   "cell_type": "markdown",
   "metadata": {},
   "source": [
    "At this point you might ask, \"How do you know the distance to the neighboring image?\" The ag viewer lets you compute this graphically, but we can use code to determine this too. All we have to do is figure out the length of each lattice vector, because these are what separate the atoms in the images. We use the numpy module to compute the distance of a vector as the square root of the sum of squared elements."
   ]
  },
  {
   "cell_type": "code",
   "execution_count": 33,
   "metadata": {},
   "outputs": [
    {
     "name": "stdout",
     "output_type": "stream",
     "text": [
      "|a1| = 10.04 Ang\n",
      "|a2| = 10.04 Ang\n",
      "|a3| = 10.04 Ang\n"
     ]
    }
   ],
   "source": [
    "from ase import Atoms, Atom\n",
    "from ase.io import write\n",
    "import numpy as np\n",
    "b=7.1\n",
    "\n",
    "# fcc 原胞\n",
    "atoms = Atoms(\n",
    "    [Atom('C', [0,0,0]),\n",
    "    Atom('O', [1.1,0,0]),],\n",
    "    cell = [\n",
    "        [b,b,0],\n",
    "        [b,0,b],\n",
    "        [0,b,b]\n",
    "    ]\n",
    ")\n",
    "atoms.center() # translate atoms to center of unit cell\n",
    "(a1, a2, a3) = atoms.get_cell()\n",
    "print(\"|a1| = {0:1.2f} Ang\".format(np.sum(a1**2)**0.5))\n",
    "print(\"|a2| = {0:1.2f} Ang\".format(np.linalg.norm(a2)))\n",
    "print(\"|a3| = {0:1.2f} Ang\".format(np.sum(a3**2)**0.5))"
   ]
  },
  {
   "cell_type": "markdown",
   "metadata": {},
   "source": [
    "The first line is the number of atoms in the file. The second line is often a comment. What follows is one line per atom with the symbol and Cartesian coordinates in Å. Note that the XYZ format does not have unit cell information in it, so you will have to figure out a way to provide it. In this example, we center the atoms in a box with vacuum on all sides"
   ]
  },
  {
   "cell_type": "code",
   "execution_count": 3,
   "metadata": {},
   "outputs": [],
   "source": [
    "from ase.io import write, read\n",
    "from ase.visualize import view\n",
    "\n",
    "atoms = read(\"molecules/isobutane.xyz\")\n",
    "atoms.center(vacuum=5) # 原本无真空层，添加真空层，由分子转为晶体\n",
    "# view(atoms)\n",
    "write(\"cell/isobutane.vasp\", atoms,format=\"vasp\")"
   ]
  },
  {
   "cell_type": "markdown",
   "metadata": {},
   "source": [
    "ase defines a number of molecular geometries in the ase.data.molecules database.  \n",
    "For example, the database includes the molecules in the G2/97 database  "
   ]
  },
  {
   "cell_type": "code",
   "execution_count": 18,
   "metadata": {},
   "outputs": [
    {
     "name": "stdout",
     "output_type": "stream",
     "text": [
      "['atomic_masses', 'atomic_masses_common', 'atomic_masses_iupac2016', 'atomic_masses_legacy', 'atomic_names', 'atomic_numbers', 'chemical_symbols', 'colors', 'covalent_radii', 'g2', 'g2_1', 'g2_2', 'ground_state_magnetic_moments', 'missing', 'np', 'reference_states', 'symbol', 'vdw', 'vdw_radii']\n",
      "dict_keys(['Be', 'BeH', 'C', 'C2H2', 'C2H4', 'C2H6', 'CH', 'CH2_s1A1d', 'CH2_s3B1d', 'CH3', 'CH3Cl', 'CH3OH', 'CH3SH', 'CH4', 'CN', 'CO', 'CO2', 'CS', 'Cl', 'Cl2', 'ClF', 'ClO', 'F', 'F2', 'H', 'H2CO', 'H2O', 'H2O2', 'HCN', 'HCO', 'HCl', 'HF', 'HOCl', 'Li', 'Li2', 'LiF', 'LiH', 'N', 'N2', 'N2H4', 'NH', 'NH2', 'NH3', 'NO', 'Na', 'Na2', 'NaCl', 'O', 'O2', 'OH', 'P', 'P2', 'PH2', 'PH3', 'S', 'S2', 'SH2', 'SO', 'SO2', 'Si', 'Si2', 'Si2H6', 'SiH2_s1A1d', 'SiH2_s3B1d', 'SiH3', 'SiH4', 'SiO', '2-butyne', 'Al', 'AlCl3', 'AlF3', 'B', 'BCl3', 'BF3', 'C2Cl4', 'C2F4', 'C2H3', 'C2H5', 'C2H6CHOH', 'C2H6NH', 'C2H6SO', 'C3H4_C2v', 'C3H4_C3v', 'C3H4_D2d', 'C3H6_Cs', 'C3H6_D3h', 'C3H7', 'C3H7Cl', 'C3H8', 'C3H9C', 'C3H9N', 'C4H4NH', 'C4H4O', 'C4H4S', 'C5H5N', 'C5H8', 'C6H6', 'CCH', 'CCl4', 'CF3CN', 'CF4', 'CH2NHCH2', 'CH2OCH2', 'CH2SCH2', 'CH3CH2Cl', 'CH3CH2NH2', 'CH3CH2O', 'CH3CH2OCH3', 'CH3CH2OH', 'CH3CH2SH', 'CH3CHO', 'CH3CN', 'CH3CO', 'CH3COCH3', 'CH3COCl', 'CH3COF', 'CH3CONH2', 'CH3COOH', 'CH3NO2', 'CH3O', 'CH3OCH3', 'CH3ONO', 'CH3S', 'CH3SCH3', 'CH3SiH3', 'COF2', 'CS2', 'ClF3', 'ClNO', 'F2O', 'H2', 'H2CCHCN', 'H2CCHCl', 'H2CCHF', 'H2CCO', 'H2CCl2', 'H2CF2', 'H2COH', 'H3CNH2', 'HCCl3', 'HCF3', 'HCOOCH3', 'HCOOH', 'N2O', 'NCCN', 'NF3', 'NO2', 'O3', 'OCHCHO', 'OCS', 'PF3', 'SH', 'SiCl4', 'SiF4', 'bicyclobutane', 'butadiene', 'cyclobutane', 'cyclobutene', 'isobutane', 'isobutene', 'methylenecyclopropane', 'trans-butane'])\n"
     ]
    }
   ],
   "source": [
    "from ase.data import g2\n",
    "from ase.data import g2_1\n",
    "import ase\n",
    "\n",
    "print(dir(ase.data)[11:])\n",
    "keys = g2.data.keys()\n",
    "keys1 = g2_1.data.keys()\n",
    "print(keys)"
   ]
  },
  {
   "cell_type": "markdown",
   "metadata": {},
   "source": [
    "Here is an example of getting the geometry of an acetonitrile molecule and writing an image to a file"
   ]
  },
  {
   "cell_type": "code",
   "execution_count": 4,
   "metadata": {},
   "outputs": [],
   "source": [
    "from ase.structure import molecule\n",
    "from ase.visualize import view\n",
    "from ase.io import write\n",
    "\n",
    "atoms = molecule(\"CH3CN\")\n",
    "# view(atoms)\n",
    "atoms.center(vacuum=6)\n",
    "# view(atoms)\n",
    "write(\"images/ch3cu.png\", atoms, show_unit_cell=2)\n"
   ]
  },
  {
   "cell_type": "code",
   "execution_count": 5,
   "metadata": {},
   "outputs": [],
   "source": [
    "# rotated\n",
    "from ase.structure import molecule\n",
    "from ase.visualize import view\n",
    "from ase.io import write\n",
    "\n",
    "atoms = molecule(\"CH3CN\")\n",
    "atoms.center(vacuum=6)\n",
    "write(\"images/ch3cu-rotated.png\", atoms, show_unit_cell=2, rotation=\"45x, 45y\")"
   ]
  },
  {
   "cell_type": "markdown",
   "metadata": {},
   "source": [
    "If you actually want to rotate the coordinates, there is a nice way to do that too, with the ase.Atoms. rotate method. Actually there are some subtleties in rotation. One rotates the molecule an angle (in radians) around a vector, but you have to choose whether the center of mass should be fixed or not. You also must decide whether or not the unit cell should be rotated. In the next example you can see the coordinates have changed due to the rotations. Note that the write function uses the rotation angle in degrees, while the rotate function uses radians"
   ]
  },
  {
   "cell_type": "code",
   "execution_count": 30,
   "metadata": {},
   "outputs": [],
   "source": [
    "from ase.structure import molecule\n",
    "from ase.visualize import view\n",
    "from ase.io import write\n",
    "from ase.io.trajectory import Trajectory\n",
    "from numpy import pi\n",
    "\n",
    "traj = Trajectory(\"trajectorys/ch3cu-rotated-2.traj\", \"w\")\n",
    "\n",
    "atoms = molecule(\"CH3CN\")\n",
    "atoms.center(vacuum=6)\n",
    "\n",
    "traj.write(atoms)\n",
    "\n",
    "# center: The center is kept fixed under the rotation. Use 'COM' to fix the center of mass, 'COP' to fix the center of positions or 'COU' to fix the center of cell.\n",
    "atoms.rotate(90, \"x\", center=\"COP\", rotate_cell=False)\n",
    "traj.write(atoms)\n",
    "\n",
    "atoms.rotate(90, \"y\", center=\"COP\", rotate_cell=False)\n",
    "traj.write(atoms)"
   ]
  },
  {
   "cell_type": "markdown",
   "metadata": {},
   "source": [
    "Combining Atoms objects"
   ]
  },
  {
   "cell_type": "code",
   "execution_count": 35,
   "metadata": {},
   "outputs": [
    {
     "data": {
      "text/plain": [
       "<subprocess.Popen at 0x25be3ab0250>"
      ]
     },
     "execution_count": 35,
     "metadata": {},
     "output_type": "execute_result"
    }
   ],
   "source": [
    "from ase.structure import molecule\n",
    "from ase.visualize import view\n",
    "from ase.io import write\n",
    "\n",
    "atoms1 = molecule(\"CH3CN\")\n",
    "atoms2 = molecule(\"O2\")\n",
    "atoms2.translate([3, 0, 0]) # move along x axis with 3A\n",
    "\n",
    "bothatoms = atoms1 + atoms2\n",
    "bothatoms.center(5)\n",
    "view(bothatoms)"
   ]
  },
  {
   "cell_type": "markdown",
   "metadata": {},
   "source": [
    "Simple properties"
   ]
  },
  {
   "cell_type": "code",
   "execution_count": 62,
   "metadata": {},
   "outputs": [
    {
     "name": "stdout",
     "output_type": "stream",
     "text": [
      "#  sym     p_x     p_y     p_z\n",
      "  0 C      0.00    0.00   -1.19\n",
      "  1 C      0.00    0.00    0.27\n",
      "  2 N      0.00    0.00    1.45\n",
      "  3 H      0.00    1.02   -1.56\n",
      "  4 H      0.89   -0.51   -1.56\n",
      "  5 H     -0.89   -0.51   -1.56\n",
      "\n",
      "# sym    at#    p_x    p_y    p_z\n",
      "---------------------------------\n",
      "  0  C   6    0.00    0.00   -1.19\n",
      "  1  C   6    0.00    0.00    0.27\n",
      "  2  N   7    0.00    0.00    1.45\n",
      "  3  H   1    0.00    1.02   -1.56\n",
      "  4  H   1    0.89   -0.51   -1.56\n",
      "  5  H   1   -0.89   -0.51   -1.56\n"
     ]
    }
   ],
   "source": [
    "from ase.structure import molecule\n",
    "from ase.io import write\n",
    "\n",
    "atoms = molecule(\"CH3CN\")\n",
    "# atoms.center(3)\n",
    "\n",
    "print('#  sym     p_x     p_y     p_z')\n",
    "for i, atom in enumerate(atoms):\n",
    "    print(\"{0:3d}{1:^4s}{2:-8.2f}{3:-8.2f}{4:-8.2f}\".format(i,atom.symbol,atom.x, atom.y,atom.z))\n",
    "\n",
    "sym = atoms.get_chemical_symbols()\n",
    "num = atoms.get_atomic_numbers()\n",
    "pos = atoms.get_positions()\n",
    "atom_indices = range(len(atoms))\n",
    "\n",
    "print()\n",
    "print(\"# sym    at#    p_x    p_y    p_z\")\n",
    "print(\"---------------------------------\")\n",
    "for i,s,n,p in zip(atom_indices, sym, num, pos):\n",
    "    px,py,pz=p\n",
    "    print(\"{:3d}{:>3s}{:4d}{:8.2f}{:8.2f}{:8.2f}\".format(i, s, n, px, py, pz))\n"
   ]
  },
  {
   "cell_type": "markdown",
   "metadata": {},
   "source": [
    "Center of mass"
   ]
  },
  {
   "cell_type": "code",
   "execution_count": 12,
   "metadata": {},
   "outputs": [
    {
     "name": "stdout",
     "output_type": "stream",
     "text": [
      "COM-center of mass : [0.00000000e+00 5.91861899e-08 4.75435401e-02]\n"
     ]
    },
    {
     "data": {
      "text/plain": [
       "array([-7.8016843e-11,  6.0165981e-08,  4.7543544e-02], dtype=float32)"
      ]
     },
     "execution_count": 12,
     "metadata": {},
     "output_type": "execute_result"
    }
   ],
   "source": [
    "from ase.structure import molecule\n",
    "import numpy as np\n",
    "\n",
    "atoms = molecule(\"NH3\")\n",
    "print(f\"COM-center of mass : {atoms.get_center_of_mass()}\")\n",
    "\n",
    "pos = atoms.positions\n",
    "masses = atoms.get_masses() # array([14.007,  1.008,  1.008,  1.008])\n",
    "COM = np.array([00,0,0], dtype=\"f4\")\n",
    "\n",
    "for m, p in zip(masses, pos):\n",
    "    COM += m*p\n",
    "COM /= masses.sum()\n",
    "COM"
   ]
  },
  {
   "cell_type": "markdown",
   "metadata": {},
   "source": [
    "The moment of inertia is a measure of resistance to changes in rotation. It is defined by I = ∑N i=1 mir2 i where ri is the distance to an axis of rotation. There are typically three moments of inertia, although some may be zero depending on symmetry, and others may be degenerate. There is a convenient function to get the moments of inertia: ase.Atoms.get_moments_of_inertia. Here are several examples of molecules with different types of symmetry."
   ]
  },
  {
   "cell_type": "code",
   "execution_count": 14,
   "metadata": {},
   "outputs": [
    {
     "data": {
      "text/plain": [
       "<subprocess.Popen at 0x19641e98940>"
      ]
     },
     "execution_count": 14,
     "metadata": {},
     "output_type": "execute_result"
    }
   ],
   "source": [
    "from ase.structure import molecule\n",
    "from ase.visualize import view\n",
    "atoms = molecule(\"NH3\")\n",
    "atoms.get_moments_of_inertia()\n",
    "# view(atoms)"
   ]
  },
  {
   "cell_type": "markdown",
   "metadata": {},
   "source": [
    "If you want to know the principle axes of rotation, we simply pass vectors=True to the function, and it returns the moments of inertia and the principle axes"
   ]
  },
  {
   "cell_type": "code",
   "execution_count": 16,
   "metadata": {},
   "outputs": [
    {
     "data": {
      "text/plain": [
       "(array([ 3.2039126 , 37.969823  , 37.96982492]),\n",
       " array([[0., 0., 1.],\n",
       "        [0., 1., 0.],\n",
       "        [1., 0., 0.]]))"
      ]
     },
     "execution_count": 16,
     "metadata": {},
     "output_type": "execute_result"
    }
   ],
   "source": [
    "from ase.structure import molecule\n",
    "from ase.visualize import view\n",
    "atoms = molecule(\"CH3Cl\")\n",
    "# view(atoms)\n",
    "inertia, axes = atoms.get_moments_of_inertia(vectors=True)\n",
    "inertia, axes"
   ]
  },
  {
   "cell_type": "markdown",
   "metadata": {},
   "source": [
    "Computing bond lengths and angles\n",
    "To calculate the distance between two atoms, you have to specify their indices, remembering that the index starts at 0."
   ]
  },
  {
   "cell_type": "code",
   "execution_count": 25,
   "metadata": {},
   "outputs": [
    {
     "name": "stdout",
     "output_type": "stream",
     "text": [
      "atoms symbols\n",
      "=============\n",
      "0 N\n",
      "1 H\n",
      "2 H\n",
      "3 H\n",
      "=============\n",
      "N to H1: 1.0167934463645996\n",
      "N to H2: 1.0167932803647945\n",
      "N to H3: 1.0167932803647945\n",
      "H1 to H2: 1.6276614450729612\n",
      "=============\n"
     ]
    }
   ],
   "source": [
    "from ase.structure import molecule\n",
    "from ase.visualize import view\n",
    "atoms = molecule(\"NH3\")\n",
    "print(\"atoms symbols\")\n",
    "print(\"=============\")\n",
    "for i,atom in enumerate(atoms):\n",
    "    symbol = atom.symbol\n",
    "    print(f\"{i} {symbol}\")\n",
    "print(\"=============\")\n",
    "    \n",
    "# distance between N and H\n",
    "print(f\"N to H1: {atoms.get_distance(0,1)}\")\n",
    "print(f\"N to H2: {atoms.get_distance(0,2)}\")\n",
    "print(f\"N to H3: {atoms.get_distance(0,3)}\")\n",
    "print(f\"H1 to H2: {atoms.get_distance(1,2)}\")\n",
    "print(\"=============\")"
   ]
  },
  {
   "cell_type": "markdown",
   "metadata": {},
   "source": [
    "Dihedral angles"
   ]
  },
  {
   "cell_type": "code",
   "execution_count": 4,
   "metadata": {},
   "outputs": [
    {
     "name": "stdout",
     "output_type": "stream",
     "text": [
      "106.33462423179175\n",
      "106.33462423179175\n",
      "106.33468888231188\n"
     ]
    }
   ],
   "source": [
    "from ase.structure import molecule\n",
    "from ase.visualize import view\n",
    "atoms = molecule(\"NH3\")\n",
    "# 0 指的是N，1，2，3为H\n",
    "print(atoms.get_angle(1,0,2))\n",
    "print(atoms.get_angle(1,0,3))\n",
    "print(atoms.get_angle(2,0,3))"
   ]
  }
 ],
 "metadata": {
  "kernelspec": {
   "display_name": "Python 3.8.8 ('base')",
   "language": "python",
   "name": "python3"
  },
  "language_info": {
   "codemirror_mode": {
    "name": "ipython",
    "version": 3
   },
   "file_extension": ".py",
   "mimetype": "text/x-python",
   "name": "python",
   "nbconvert_exporter": "python",
   "pygments_lexer": "ipython3",
   "version": "3.8.8"
  },
  "orig_nbformat": 4,
  "vscode": {
   "interpreter": {
    "hash": "e665bd0c90333571dc6e242ea46570f71accaf8375c022a57c8259094a5d60b9"
   }
  }
 },
 "nbformat": 4,
 "nbformat_minor": 2
}
