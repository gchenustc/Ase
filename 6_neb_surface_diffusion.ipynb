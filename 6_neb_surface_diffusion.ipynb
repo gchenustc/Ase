{
 "cells": [
  {
   "cell_type": "code",
   "execution_count": 44,
   "metadata": {},
   "outputs": [
    {
     "data": {
      "text/plain": [
       "<subprocess.Popen at 0x2eb71d0a7c0>"
      ]
     },
     "execution_count": 44,
     "metadata": {},
     "output_type": "execute_result"
    }
   ],
   "source": [
    "# build surface\n",
    "from ase.build import fcc100, add_adsorbate\n",
    "from ase.visualize import view\n",
    "slab = fcc100(\"Al\", size=(2,2,3))\n",
    "add_adsorbate(slab, \"Au\", height=1.7, position=\"hollow\")\n",
    "slab.center(vacuum=10.0, axis=2) # 加上周期性边界\n",
    "view(slab)"
   ]
  },
  {
   "cell_type": "code",
   "execution_count": 45,
   "metadata": {},
   "outputs": [
    {
     "name": "stdout",
     "output_type": "stream",
     "text": [
      "[True, True, True, True, True, True, True, True, False, False, False, False, False]\n"
     ]
    }
   ],
   "source": [
    "# fix the second and third layers\n",
    "from ase.constraints import FixAtoms\n",
    "mask = [atom.tag>1 for atom in slab]\n",
    "print(mask)\n",
    "slab.set_constraint(FixAtoms(mask=mask))"
   ]
  },
  {
   "cell_type": "code",
   "execution_count": 46,
   "metadata": {},
   "outputs": [
    {
     "name": "stdout",
     "output_type": "stream",
     "text": [
      "                Step[ FC]     Time          Energy          fmax\n",
      "*Force-consistent energies used in optimization.\n",
      "BFGSLineSearch:    0[  0] 23:57:59        3.323870*       0.2462\n",
      "BFGSLineSearch:    1[  1] 23:57:59        3.314754*       0.0378\n"
     ]
    },
    {
     "data": {
      "text/plain": [
       "True"
      ]
     },
     "execution_count": 46,
     "metadata": {},
     "output_type": "execute_result"
    }
   ],
   "source": [
    "# calc\n",
    "from ase.calculators.emt import EMT\n",
    "from ase.optimize import QuasiNewton\n",
    "slab.calc = EMT()\n",
    "\n",
    "# initial state\n",
    "qn = QuasiNewton(slab, trajectory=\"initial.traj\")\n",
    "qn.run(fmax=0.05)"
   ]
  },
  {
   "cell_type": "code",
   "execution_count": 47,
   "metadata": {},
   "outputs": [
    {
     "name": "stdout",
     "output_type": "stream",
     "text": [
      "                Step[ FC]     Time          Energy          fmax\n",
      "*Force-consistent energies used in optimization.\n",
      "BFGSLineSearch:    0[  0] 23:57:59        3.320051*       0.1208\n",
      "BFGSLineSearch:    1[  1] 23:57:59        3.316117*       0.0474\n"
     ]
    },
    {
     "data": {
      "text/plain": [
       "True"
      ]
     },
     "execution_count": 47,
     "metadata": {},
     "output_type": "execute_result"
    }
   ],
   "source": [
    "# Final state\n",
    "slab[-1].x += slab.get_cell()[0,0] / 2\n",
    "# view(slab)\n",
    "qn = QuasiNewton(slab, trajectory=\"final.traj\")\n",
    "qn.run(fmax=0.05)"
   ]
  },
  {
   "cell_type": "code",
   "execution_count": 60,
   "metadata": {},
   "outputs": [
    {
     "name": "stdout",
     "output_type": "stream",
     "text": [
      "      Step     Time          Energy         fmax\n",
      "BFGS:    0 00:07:43        4.219952        3.5208\n",
      "BFGS:    1 00:07:43        3.937039        2.1765\n",
      "BFGS:    2 00:07:43        3.719814        0.4351\n",
      "BFGS:    3 00:07:43        3.709652        0.2301\n",
      "BFGS:    4 00:07:43        3.708879        0.2441\n",
      "BFGS:    5 00:07:43        3.706088        0.2577\n",
      "BFGS:    6 00:07:43        3.698532        0.2134\n",
      "BFGS:    7 00:07:43        3.692121        0.2462\n",
      "BFGS:    8 00:07:43        3.692274        0.1873\n",
      "BFGS:    9 00:07:43        3.693484        0.1727\n",
      "BFGS:   10 00:07:43        3.692659        0.1514\n",
      "BFGS:   11 00:07:43        3.690809        0.0736\n",
      "BFGS:   12 00:07:43        3.690202        0.0708\n",
      "BFGS:   13 00:07:44        3.690382        0.0782\n",
      "BFGS:   14 00:07:44        3.690426        0.1034\n",
      "BFGS:   15 00:07:44        3.689890        0.0998\n",
      "BFGS:   16 00:07:44        3.689029        0.0543\n",
      "BFGS:   17 00:07:44        3.688737        0.0289\n"
     ]
    },
    {
     "data": {
      "text/plain": [
       "True"
      ]
     },
     "execution_count": 60,
     "metadata": {},
     "output_type": "execute_result"
    }
   ],
   "source": [
    "# NEB\n",
    "from ase.io import read\n",
    "from ase.neb import NEB\n",
    "from ase.optimize import BFGS\n",
    "initial = read('initial.traj')\n",
    "final = read('final.traj')\n",
    "\n",
    "constraint = FixAtoms(mask=[atom.tag>1 for atom in initial])\n",
    "images = [initial]\n",
    "for i in range(3):\n",
    "    img = initial.copy()\n",
    "    # view(img)\n",
    "    img.calc =EMT()\n",
    "    img.set_constraint(constraint)\n",
    "    images.append(img)\n",
    "\n",
    "images.append(final)\n",
    "neb =NEB(images)\n",
    "neb.interpolate()\n",
    "\n",
    "qn = BFGS(neb, trajectory=\"neb.traj\")\n",
    "qn.run(fmax=0.05)"
   ]
  },
  {
   "cell_type": "code",
   "execution_count": 66,
   "metadata": {},
   "outputs": [
    {
     "data": {
      "text/plain": [
       "(0.3739823279984211, 0.0013629171165163712)"
      ]
     },
     "execution_count": 66,
     "metadata": {},
     "output_type": "execute_result"
    }
   ],
   "source": [
    "# ase.neb.NEBTools\n",
    "import matplotlib.pyplot as plt\n",
    "from ase.neb import NEBTools\n",
    "\n",
    "imgs = read(\"neb.traj@-5:\")\n",
    "nebtools = NEBTools(imgs)\n",
    "# Get the calculated barrier and the energy change of the reaction.\n",
    "nebtools.get_barrier()"
   ]
  },
  {
   "cell_type": "code",
   "execution_count": 67,
   "metadata": {},
   "outputs": [
    {
     "data": {
      "text/plain": [
       "(0.3739823279984211, 0.0013629171165163712)"
      ]
     },
     "execution_count": 67,
     "metadata": {},
     "output_type": "execute_result"
    }
   ],
   "source": [
    "# Get the barrier without any interpolation between highest images.\n",
    "nebtools.get_barrier(fit=False)"
   ]
  },
  {
   "cell_type": "code",
   "execution_count": 69,
   "metadata": {},
   "outputs": [
    {
     "data": {
      "text/plain": [
       "0.02891567439389696"
      ]
     },
     "execution_count": 69,
     "metadata": {},
     "output_type": "execute_result"
    }
   ],
   "source": [
    "# Get the actual maximum force at this point in the simulation.\n",
    "nebtools.get_fmax()"
   ]
  },
  {
   "cell_type": "code",
   "execution_count": 70,
   "metadata": {},
   "outputs": [
    {
     "data": {
      "image/png": "[encoded data removed]",
      "text/plain": [
       "<Figure size 432x288 with 1 Axes>"
      ]
     },
     "metadata": {
      "needs_background": "light"
     },
     "output_type": "display_data"
    }
   ],
   "source": [
    "# Create a figure like that coming from ASE-GUI.\n",
    "fig = nebtools.plot_band()\n",
    "fig.savefig('diffusion-barrier.png')"
   ]
  },
  {
   "cell_type": "code",
   "execution_count": 71,
   "metadata": {},
   "outputs": [
    {
     "data": {
      "image/png": "[encoded data removed]",
      "text/plain": [
       "<Figure size 396x288 with 1 Axes>"
      ]
     },
     "metadata": {
      "needs_background": "light"
     },
     "output_type": "display_data"
    }
   ],
   "source": [
    "# Create a figure with custom parameters.\n",
    "fig = plt.figure(figsize=(5.5, 4.0))\n",
    "ax = fig.add_axes((0.15, 0.15, 0.8, 0.75))\n",
    "nebtools.plot_band(ax)\n",
    "fig.savefig('diffusion-barrier.png')"
   ]
  },
  {
   "cell_type": "code",
   "execution_count": null,
   "metadata": {},
   "outputs": [],
   "source": []
  }
 ],
 "metadata": {
  "kernelspec": {
   "display_name": "Python 3.8.8 ('base')",
   "language": "python",
   "name": "python3"
  },
  "language_info": {
   "codemirror_mode": {
    "name": "ipython",
    "version": 3
   },
   "file_extension": ".py",
   "mimetype": "text/x-python",
   "name": "python",
   "nbconvert_exporter": "python",
   "pygments_lexer": "ipython3",
   "version": "3.8.8"
  },
  "orig_nbformat": 4,
  "vscode": {
   "interpreter": {
    "hash": "e665bd0c90333571dc6e242ea46570f71accaf8375c022a57c8259094a5d60b9"
   }
  }
 },
 "nbformat": 4,
 "nbformat_minor": 2
}
