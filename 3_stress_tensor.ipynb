{
 "cells": [
  {
   "cell_type": "code",
   "execution_count": 43,
   "metadata": {},
   "outputs": [],
   "source": [
    "import numpy as np\n",
    "import ase\n",
    "from  ase.io import read,write\n",
    "from ase.calculators.emt import EMT\n",
    "from ase.build import bulk\n",
    "from ase.io import Trajectory\n",
    "from ase.visualize import view"
   ]
  },
  {
   "cell_type": "code",
   "execution_count": 44,
   "metadata": {},
   "outputs": [],
   "source": [
    "# First, we make a good initial guess for a using FCC nearest neighbor distance\n",
    "a0 = 3.52 / np.sqrt(2)\n",
    "c0 = np.sqrt(8/3.0) * a0"
   ]
  },
  {
   "cell_type": "code",
   "execution_count": 45,
   "metadata": {},
   "outputs": [],
   "source": [
    "traj = Trajectory(\"Ni.traj\", 'w')"
   ]
  },
  {
   "cell_type": "code",
   "execution_count": 46,
   "metadata": {},
   "outputs": [
    {
     "data": {
      "text/plain": [
       "Cell([[2.4890158697766473, 0.0, 0.0], [-1.2445079348883237, 2.1555509736491967, 0.0], [0.0, 0.0, 4.064545895094965]])"
      ]
     },
     "execution_count": 46,
     "metadata": {},
     "output_type": "execute_result"
    }
   ],
   "source": [
    "ni = bulk(\"Ni\", 'hcp', a=a0, c=c0)\n",
    "# view(ni)\n",
    "ni.cell"
   ]
  },
  {
   "cell_type": "code",
   "execution_count": 47,
   "metadata": {},
   "outputs": [],
   "source": [
    "eps = 0.01\n",
    "for a in a0*np.linspace(1-eps, 1+eps, 3):\n",
    "    for c in c0*np.linspace(1-eps, 1+eps, 3):\n",
    "        ni = bulk(\"Ni\", 'hcp', a,c)\n",
    "        ni.calc = EMT()\n",
    "        ni.get_potential_energies()\n",
    "        traj.write(ni)"
   ]
  },
  {
   "cell_type": "code",
   "execution_count": 48,
   "metadata": {},
   "outputs": [
    {
     "data": {
      "text/plain": [
       "(array([2.46412571, 2.46412571, 2.46412571, 2.48901587, 2.48901587,\n",
       "        2.48901587, 2.51390603, 2.51390603, 2.51390603]),\n",
       " [-0.029701330447096552,\n",
       "  -0.027509801944638923,\n",
       "  -0.020589818669460414,\n",
       "  -0.024753432930204156,\n",
       "  -0.020417223624274783,\n",
       "  -0.011530632137137786,\n",
       "  -0.008699207576530199,\n",
       "  -0.002135271279630757,\n",
       "  0.008801194926746803])"
      ]
     },
     "execution_count": 48,
     "metadata": {},
     "output_type": "execute_result"
    }
   ],
   "source": [
    "configs = read('Ni.traj@:')\n",
    "energies = [config.get_potential_energy() for config in configs]\n",
    "a = np.array([config.cell[0,0] for config in configs])\n",
    "c = np.array([config.cell[2,2] for config in configs])\n",
    "a, energies"
   ]
  },
  {
   "cell_type": "code",
   "execution_count": 50,
   "metadata": {},
   "outputs": [
    {
     "data": {
      "text/plain": [
       "array([ 97.72461862, -52.8738722 , -16.19193701,   9.0307395 ,\n",
       "         2.07302647,   1.37721208])"
      ]
     },
     "execution_count": 50,
     "metadata": {},
     "output_type": "execute_result"
    }
   ],
   "source": [
    "# energy = p0 + p1*a + p2*c + p3*a**2 + p4*a*c + p5*c**2\n",
    "functions = np.array([a**0, a, c, a**2, a * c, c**2])\n",
    "p = np.linalg.lstsq(functions.T, energies, rcond=-1)[0]\n",
    "p"
   ]
  },
  {
   "cell_type": "code",
   "execution_count": 63,
   "metadata": {},
   "outputs": [
    {
     "name": "stdout",
     "output_type": "stream",
     "text": [
      "97.72461862259729\n",
      "[-52.8738722  -16.19193701]\n"
     ]
    },
    {
     "data": {
      "text/plain": [
       "array([[18.06147899,  2.07302647],\n",
       "       [ 2.07302647,  2.75442416]])"
      ]
     },
     "execution_count": 63,
     "metadata": {},
     "output_type": "execute_result"
    }
   ],
   "source": [
    "# 以下操作即求解 energy = p0 + p1*a + p2*c + p3*a**2 + p4*a*c + p5*c**2\n",
    "# 的a或者c的偏导=0，即能量最小点取得a或者c\n",
    "p0 = p[0]\n",
    "p1 = p[1:3]\n",
    "p2 = np.array([(2 * p[3], p[4]),\n",
    "               (p[4], 2 * p[5])])\n",
    "print(p0)\n",
    "print(p1)\n",
    "p2"
   ]
  },
  {
   "cell_type": "code",
   "execution_count": 62,
   "metadata": {},
   "outputs": [
    {
     "data": {
      "text/plain": [
       "(2.4657199396330904, 4.022777044194669)"
      ]
     },
     "execution_count": 62,
     "metadata": {},
     "output_type": "execute_result"
    }
   ],
   "source": [
    "\n",
    "a0, c0 = np.linalg.solve(p2.T, -p1)\n",
    "a0,c0"
   ]
  },
  {
   "cell_type": "code",
   "execution_count": null,
   "metadata": {},
   "outputs": [],
   "source": []
  }
 ],
 "metadata": {
  "kernelspec": {
   "display_name": "Python 3.8.8 ('base')",
   "language": "python",
   "name": "python3"
  },
  "language_info": {
   "codemirror_mode": {
    "name": "ipython",
    "version": 3
   },
   "file_extension": ".py",
   "mimetype": "text/x-python",
   "name": "python",
   "nbconvert_exporter": "python",
   "pygments_lexer": "ipython3",
   "version": "3.8.8"
  },
  "orig_nbformat": 4,
  "vscode": {
   "interpreter": {
    "hash": "e665bd0c90333571dc6e242ea46570f71accaf8375c022a57c8259094a5d60b9"
   }
  }
 },
 "nbformat": 4,
 "nbformat_minor": 2
}
